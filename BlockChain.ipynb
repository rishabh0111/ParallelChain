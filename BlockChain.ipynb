{
 "cells": [
  {
   "cell_type": "code",
   "execution_count": null,
   "metadata": {},
   "outputs": [],
   "source": [
    "%%writefile src/main.cpp\n",
    "\n",
    "#include <chrono>\n",
    "#include <iostream>\n",
    "\n",
    "#include <CL/sycl.hpp>\n",
    "\n",
    "#include \"Blockchain.h\"\n",
    "\n",
    "int main() {\n",
    "    auto start_time = std::chrono::high_resolution_clock::now();\n",
    "\n",
    "    // Select device to perform operations with. We select the default\n",
    "    // device using a lambda function as a device selector.\n",
    "    cl::sycl::queue q([](cl::sycl::device dev) {\n",
    "        return dev.is_gpu() && dev.get_info<cl::sycl::info::device::name>().find(\"Intel\") != std::string::npos;\n",
    "    });\n",
    "\n",
    "    std::cout << \"Device: \"\n",
    "              << q.get_device().get_info<cl::sycl::info::device::name>()\n",
    "              << std::endl;\n",
    "\n",
    "    {\n",
    "        using namespace std;\n",
    "        using namespace cl::sycl;\n",
    "\n",
    "        Blockchain bChain{q};\n",
    "\n",
    "        std::cout << \"Mining block 1...\" << std::endl;\n",
    "        bChain.AddBlock(q, Block{q, 1, \"Block 1 Data\"});\n",
    "\n",
    "        std::cout << \"Mining block 2...\" << std::endl;\n",
    "        bChain.AddBlock(q, Block{q, 2, \"Block 2 Data\"});\n",
    "\n",
    "        std::cout << \"Mining block 3...\" << std::endl;\n",
    "        bChain.AddBlock(q, Block{q, 3, \"Block 3 Data\"});\n",
    "    }\n",
    "\n",
    "    return 0;\n",
    "}"
   ]
  }
 ],
 "metadata": {
  "language_info": {
   "name": "python"
  },
  "orig_nbformat": 4
 },
 "nbformat": 4,
 "nbformat_minor": 2
}
